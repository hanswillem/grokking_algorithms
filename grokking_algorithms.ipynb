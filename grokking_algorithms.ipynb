{
 "cells": [
  {
   "cell_type": "markdown",
   "metadata": {},
   "source": [
    "# Grokking Algorithms"
   ]
  },
  {
   "cell_type": "markdown",
   "metadata": {},
   "source": [
    "## binary search"
   ]
  },
  {
   "cell_type": "code",
   "execution_count": 15,
   "metadata": {
    "collapsed": true
   },
   "outputs": [],
   "source": [
    "def binarySearch(i, l):\n",
    "    low = 0\n",
    "    high = len(l) - 1\n",
    "    \n",
    "    while low <= high:\n",
    "        mid = (low + high) // 2 \n",
    "        guess = l[mid]\n",
    "        \n",
    "        if guess == i:\n",
    "            return guess\n",
    "        if i < guess:\n",
    "            high = mid - 1\n",
    "        if i > guess:\n",
    "            low = mid + 1\n",
    "\n",
    "    return False"
   ]
  },
  {
   "cell_type": "code",
   "execution_count": 17,
   "metadata": {},
   "outputs": [
    {
     "data": {
      "text/plain": [
       "2"
      ]
     },
     "execution_count": 17,
     "metadata": {},
     "output_type": "execute_result"
    }
   ],
   "source": [
    "l = [1,2,3,4,5,6,7,8,9,10]\n",
    "binarySearch(2, l)"
   ]
  },
  {
   "cell_type": "markdown",
   "metadata": {},
   "source": [
    "## selection sort"
   ]
  },
  {
   "cell_type": "code",
   "execution_count": 29,
   "metadata": {
    "collapsed": true,
    "scrolled": true
   },
   "outputs": [],
   "source": [
    "def findIndexLargestNumber(l):\n",
    "    index_largestNumber = l[0]\n",
    "    for i in range(len(l)):\n",
    "        if l[i] > l[index_largestNumber]:\n",
    "            index_largestNumber = i\n",
    "    return index_largestNumber"
   ]
  },
  {
   "cell_type": "code",
   "execution_count": 30,
   "metadata": {
    "collapsed": true
   },
   "outputs": [],
   "source": [
    "def selectionSort(l):\n",
    "    n = len(l)\n",
    "    sorted_l = []\n",
    "    while len(sorted_l) < n:\n",
    "        index_largestNumber = findIndexLargestNumber(l)\n",
    "        sorted_l.append(l[index_largestNumber])\n",
    "        l.pop(index_largestNumber)\n",
    "    return sorted_l"
   ]
  },
  {
   "cell_type": "code",
   "execution_count": 31,
   "metadata": {},
   "outputs": [
    {
     "data": {
      "text/plain": [
       "[8, 5, 5, 3, 3, 1, 0]"
      ]
     },
     "execution_count": 31,
     "metadata": {},
     "output_type": "execute_result"
    }
   ],
   "source": [
    "l = [1,5,3,8,3,5,0]\n",
    "selectionSort(l)"
   ]
  },
  {
   "cell_type": "markdown",
   "metadata": {},
   "source": [
    "## quicksort (recursive)"
   ]
  },
  {
   "cell_type": "code",
   "execution_count": 97,
   "metadata": {
    "collapsed": true
   },
   "outputs": [],
   "source": [
    "def quickSort(l):\n",
    "    if len(l) < 2:\n",
    "        return l\n",
    "    else:\n",
    "        pivot = l[0]\n",
    "        left = [i for i in l[1:] if i <= pivot]\n",
    "        right = [i for i in l[1:] if i > pivot]\n",
    "        return quickSort(left) + [pivot] + quickSort(right)"
   ]
  },
  {
   "cell_type": "code",
   "execution_count": 99,
   "metadata": {},
   "outputs": [
    {
     "data": {
      "text/plain": [
       "[0, 1, 1, 2, 3, 3, 3, 4, 4, 6, 7, 9]"
      ]
     },
     "execution_count": 99,
     "metadata": {},
     "output_type": "execute_result"
    }
   ],
   "source": [
    "l = [3,4,7,1,2,3,9,0,3,4,6,1]\n",
    "quickSort(l)"
   ]
  },
  {
   "cell_type": "markdown",
   "metadata": {},
   "source": [
    "## breadth first search"
   ]
  },
  {
   "cell_type": "markdown",
   "metadata": {},
   "source": [
    "![img](https://github.com/hanswillem/grokking_algorithms/blob/master/graph_web.png)"
   ]
  },
  {
   "cell_type": "code",
   "execution_count": 185,
   "metadata": {},
   "outputs": [],
   "source": [
    "graph = {}\n",
    "graph['root'] = ['A', 'B']\n",
    "graph['A'] = ['E']\n",
    "graph['B'] = ['C', 'D']\n",
    "graph['C'] = ['E']\n",
    "graph['E'] = []\n",
    "graph['D'] = []\n",
    "\n",
    "def breadthFirstSearch(s):\n",
    "    queue = ['root']\n",
    "    visited = []\n",
    "    while len(queue) > 0:\n",
    "        current = queue.pop(0)\n",
    "        if not current in visited:\n",
    "            visited.append(current)\n",
    "            if current == s:\n",
    "                return 'found: ' + str(current) + ' --> ' + str(visited)\n",
    "            else:\n",
    "                queue += graph[current]\n",
    "    return False"
   ]
  },
  {
   "cell_type": "code",
   "execution_count": 188,
   "metadata": {},
   "outputs": [
    {
     "data": {
      "text/plain": [
       "\"found: D --> ['root', 'A', 'B', 'E', 'C', 'D']\""
      ]
     },
     "execution_count": 188,
     "metadata": {},
     "output_type": "execute_result"
    }
   ],
   "source": [
    "breadthFirstSearch('D')"
   ]
  },
  {
   "cell_type": "code",
   "execution_count": null,
   "metadata": {
    "collapsed": true
   },
   "outputs": [],
   "source": []
  }
 ],
 "metadata": {
  "kernelspec": {
   "display_name": "Python 3",
   "language": "python",
   "name": "python3"
  },
  "language_info": {
   "codemirror_mode": {
    "name": "ipython",
    "version": 3
   },
   "file_extension": ".py",
   "mimetype": "text/x-python",
   "name": "python",
   "nbconvert_exporter": "python",
   "pygments_lexer": "ipython3",
   "version": "3.6.1"
  }
 },
 "nbformat": 4,
 "nbformat_minor": 2
}
